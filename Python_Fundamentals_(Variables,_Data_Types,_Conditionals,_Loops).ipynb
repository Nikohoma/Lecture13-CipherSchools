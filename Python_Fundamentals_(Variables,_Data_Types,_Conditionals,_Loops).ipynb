{
  "nbformat": 4,
  "nbformat_minor": 0,
  "metadata": {
    "colab": {
      "provenance": []
    },
    "kernelspec": {
      "name": "python3",
      "display_name": "Python 3"
    },
    "language_info": {
      "name": "python"
    }
  },
  "cells": [
    {
      "cell_type": "markdown",
      "source": [
        "Variables"
      ],
      "metadata": {
        "id": "0ne24feiBACJ"
      }
    },
    {
      "cell_type": "code",
      "source": [
        "name= \"Nikhil\"\n",
        "print(name)\n",
        "age=22\n",
        "print(age)\n"
      ],
      "metadata": {
        "colab": {
          "base_uri": "https://localhost:8080/"
        },
        "id": "zkblHcjCBEvx",
        "outputId": "ffafd693-59bb-4c05-cb79-292450da0dfb"
      },
      "execution_count": null,
      "outputs": [
        {
          "output_type": "stream",
          "name": "stdout",
          "text": [
            "Nikhil\n",
            "22\n"
          ]
        }
      ]
    },
    {
      "cell_type": "markdown",
      "source": [
        "Data Types : Integers, Floats, strings, Lists, Tuples, Dictionaries, Booleans\n"
      ],
      "metadata": {
        "id": "Ko_FmX8VBRPa"
      }
    },
    {
      "cell_type": "code",
      "source": [
        "num=-10.1\n",
        "print(abs(num))"
      ],
      "metadata": {
        "colab": {
          "base_uri": "https://localhost:8080/"
        },
        "id": "BTbH9a5HBZiF",
        "outputId": "5e690ba0-6b6c-4a1f-8933-3ab30fb49592"
      },
      "execution_count": null,
      "outputs": [
        {
          "output_type": "stream",
          "name": "stdout",
          "text": [
            "10.1\n"
          ]
        }
      ]
    },
    {
      "cell_type": "code",
      "source": [
        "print(bin(num))\n",
        "#Converts into binary format"
      ],
      "metadata": {
        "colab": {
          "base_uri": "https://localhost:8080/"
        },
        "id": "e7BxmBa5CHB2",
        "outputId": "9d4e4432-102a-45f6-c360-edd42be8bc26"
      },
      "execution_count": null,
      "outputs": [
        {
          "output_type": "stream",
          "name": "stdout",
          "text": [
            "-0b1010\n"
          ]
        }
      ]
    },
    {
      "cell_type": "code",
      "source": [
        "print(hex(num))  #Hexadecimal representation"
      ],
      "metadata": {
        "colab": {
          "base_uri": "https://localhost:8080/"
        },
        "id": "lTdCb2UZCMsb",
        "outputId": "64728d8f-85be-459b-f721-7f9e0df0c0c4"
      },
      "execution_count": null,
      "outputs": [
        {
          "output_type": "stream",
          "name": "stdout",
          "text": [
            "-0xa\n"
          ]
        }
      ]
    },
    {
      "cell_type": "code",
      "source": [
        "print(pow(num,2))  #num^2"
      ],
      "metadata": {
        "colab": {
          "base_uri": "https://localhost:8080/"
        },
        "id": "nBfdJqCMDI_e",
        "outputId": "26ac469e-58c6-4bf0-89f8-a390cce1f660"
      },
      "execution_count": null,
      "outputs": [
        {
          "output_type": "stream",
          "name": "stdout",
          "text": [
            "102.00999999999999\n"
          ]
        }
      ]
    },
    {
      "cell_type": "code",
      "source": [
        "print(divmod(num,3))  #Quotient and remainder"
      ],
      "metadata": {
        "colab": {
          "base_uri": "https://localhost:8080/"
        },
        "id": "f0m3s2CXD76g",
        "outputId": "973c07bb-e42c-463c-be03-ded622e60fbb"
      },
      "execution_count": null,
      "outputs": [
        {
          "output_type": "stream",
          "name": "stdout",
          "text": [
            "(-4.0, 1.9000000000000004)\n"
          ]
        }
      ]
    },
    {
      "cell_type": "markdown",
      "source": [
        "Float\n"
      ],
      "metadata": {
        "id": "ckJlhZTzEQqE"
      }
    },
    {
      "cell_type": "code",
      "source": [
        "price=99.99\n"
      ],
      "metadata": {
        "id": "hSvGJJFEEV-4"
      },
      "execution_count": null,
      "outputs": []
    },
    {
      "cell_type": "code",
      "source": [
        "print(round(price))  #round to the upperside"
      ],
      "metadata": {
        "colab": {
          "base_uri": "https://localhost:8080/"
        },
        "id": "IGiZi8ikEX1Y",
        "outputId": "2d343565-437f-405d-dbac-15ebe6680918"
      },
      "execution_count": null,
      "outputs": [
        {
          "output_type": "stream",
          "name": "stdout",
          "text": [
            "100\n"
          ]
        }
      ]
    },
    {
      "cell_type": "code",
      "source": [
        "print(int(price))"
      ],
      "metadata": {
        "colab": {
          "base_uri": "https://localhost:8080/"
        },
        "id": "H3oMAtdhEec5",
        "outputId": "5af3f2b4-db0c-4584-97bb-b67cb5c28c96"
      },
      "execution_count": null,
      "outputs": [
        {
          "output_type": "stream",
          "name": "stdout",
          "text": [
            "99\n"
          ]
        }
      ]
    },
    {
      "cell_type": "code",
      "source": [
        "print(float(\"123.45\"))"
      ],
      "metadata": {
        "colab": {
          "base_uri": "https://localhost:8080/"
        },
        "id": "H_oDsmbgEtN5",
        "outputId": "476c56c9-bc02-4680-ffc1-c6626bcbb965"
      },
      "execution_count": null,
      "outputs": [
        {
          "output_type": "stream",
          "name": "stdout",
          "text": [
            "123.45\n"
          ]
        }
      ]
    },
    {
      "cell_type": "code",
      "source": [
        "print(price.is_integer())"
      ],
      "metadata": {
        "colab": {
          "base_uri": "https://localhost:8080/"
        },
        "id": "fG-AkyGjEuNx",
        "outputId": "f0fe11c9-c475-4d13-b9a2-943571ff0dd5"
      },
      "execution_count": null,
      "outputs": [
        {
          "output_type": "stream",
          "name": "stdout",
          "text": [
            "False\n"
          ]
        }
      ]
    },
    {
      "cell_type": "markdown",
      "source": [
        "String"
      ],
      "metadata": {
        "id": "Ve7gnKw5E_i5"
      }
    },
    {
      "cell_type": "code",
      "source": [
        "greeting= \"Hello, World!\""
      ],
      "metadata": {
        "id": "1sIs6LdOFB2X"
      },
      "execution_count": null,
      "outputs": []
    },
    {
      "cell_type": "code",
      "source": [
        "print(greeting.lower())"
      ],
      "metadata": {
        "colab": {
          "base_uri": "https://localhost:8080/"
        },
        "id": "lbp7bPS9FK3j",
        "outputId": "3eb65ef5-8b39-4a4c-93d7-aeae99f221f0"
      },
      "execution_count": null,
      "outputs": [
        {
          "output_type": "stream",
          "name": "stdout",
          "text": [
            "hello, world!\n"
          ]
        }
      ]
    },
    {
      "cell_type": "code",
      "source": [
        "print(greeting.replace(\"World\",\"Nikhil\")) #replace substring"
      ],
      "metadata": {
        "colab": {
          "base_uri": "https://localhost:8080/"
        },
        "id": "Mx7vVQdUFP-3",
        "outputId": "d709587f-44c2-48b3-bf06-62dc0cd6d526"
      },
      "execution_count": null,
      "outputs": [
        {
          "output_type": "stream",
          "name": "stdout",
          "text": [
            "Hello, Nikhil!\n"
          ]
        }
      ]
    },
    {
      "cell_type": "code",
      "source": [
        "print(greeting.split())"
      ],
      "metadata": {
        "colab": {
          "base_uri": "https://localhost:8080/"
        },
        "id": "jY5-M-8AFbiK",
        "outputId": "b02796ad-9c01-4e1f-a7e2-4191104dd761"
      },
      "execution_count": null,
      "outputs": [
        {
          "output_type": "stream",
          "name": "stdout",
          "text": [
            "['Hello,', 'World!']\n"
          ]
        }
      ]
    },
    {
      "cell_type": "code",
      "source": [
        "print(greeting.find(\"World\")) #find substring"
      ],
      "metadata": {
        "colab": {
          "base_uri": "https://localhost:8080/"
        },
        "id": "jbU3g06AFxld",
        "outputId": "75d6e7ba-f655-4791-e21b-ea665631fd8c"
      },
      "execution_count": null,
      "outputs": [
        {
          "output_type": "stream",
          "name": "stdout",
          "text": [
            "7\n"
          ]
        }
      ]
    },
    {
      "cell_type": "code",
      "source": [
        "print(len(greeting()))"
      ],
      "metadata": {
        "colab": {
          "base_uri": "https://localhost:8080/"
        },
        "id": "9cXlE56PF7UW",
        "outputId": "d52ee840-4c74-4cee-b8a4-cede9802ad52"
      },
      "execution_count": null,
      "outputs": [
        {
          "output_type": "stream",
          "name": "stdout",
          "text": [
            "13\n"
          ]
        }
      ]
    },
    {
      "cell_type": "markdown",
      "source": [
        "Complex Data Types"
      ],
      "metadata": {
        "id": "VKncYsVdGwbx"
      }
    },
    {
      "cell_type": "markdown",
      "source": [
        "Lists"
      ],
      "metadata": {
        "id": "-4PZB-c1G23Z"
      }
    },
    {
      "cell_type": "code",
      "source": [
        "fruits=[\"Apples\",\"Bananas\",\"Cherry\"]  # can have mixed data types"
      ],
      "metadata": {
        "id": "ibcuBhaOG41J"
      },
      "execution_count": null,
      "outputs": []
    },
    {
      "cell_type": "code",
      "source": [
        "fruits.append(\"Orange\")\n",
        "print(fruits)"
      ],
      "metadata": {
        "colab": {
          "base_uri": "https://localhost:8080/"
        },
        "id": "k8fy9KVuHDAz",
        "outputId": "a25ec655-1e84-4a38-e81f-d1f69ede07a3"
      },
      "execution_count": null,
      "outputs": [
        {
          "output_type": "stream",
          "name": "stdout",
          "text": [
            "['Apples', 'Bananas', 'Cherry', 'Orange', 'Orange']\n"
          ]
        }
      ]
    },
    {
      "cell_type": "code",
      "source": [
        "fruits.extend([\"Grape\",\"Melon\"]) #extend list with another list\n",
        "print(fruits)"
      ],
      "metadata": {
        "colab": {
          "base_uri": "https://localhost:8080/"
        },
        "id": "m3d6mgVEHMbK",
        "outputId": "e7c1b0fe-358d-4b8f-d954-50844015c9b5"
      },
      "execution_count": null,
      "outputs": [
        {
          "output_type": "stream",
          "name": "stdout",
          "text": [
            "['Apples', 'Bananas', 'Cherry', 'Orange', 'Orange', 'Grape', 'Melon', 'Grape', 'Melon']\n"
          ]
        }
      ]
    },
    {
      "cell_type": "code",
      "source": [
        "fruits.remove(\"Bananas\")\n",
        "print(fruits)"
      ],
      "metadata": {
        "colab": {
          "base_uri": "https://localhost:8080/"
        },
        "id": "RfWqaGzOHgNh",
        "outputId": "b9629e31-3d82-423d-b82a-06c7f6873971"
      },
      "execution_count": null,
      "outputs": [
        {
          "output_type": "stream",
          "name": "stdout",
          "text": [
            "['Apples', 'Cherry', 'Orange', 'Orange', 'Grape', 'Melon', 'Grape', 'Melon']\n"
          ]
        }
      ]
    },
    {
      "cell_type": "code",
      "source": [
        "fruits.pop() #remove and return the last element\n"
      ],
      "metadata": {
        "colab": {
          "base_uri": "https://localhost:8080/",
          "height": 35
        },
        "id": "1H1x1GFNHnyK",
        "outputId": "6137862b-d3d1-4c66-f55d-563eb3cffd43"
      },
      "execution_count": null,
      "outputs": [
        {
          "output_type": "execute_result",
          "data": {
            "text/plain": [
              "'Melon'"
            ],
            "application/vnd.google.colaboratory.intrinsic+json": {
              "type": "string"
            }
          },
          "metadata": {},
          "execution_count": 34
        }
      ]
    },
    {
      "cell_type": "code",
      "source": [
        "fruits.sort()\n",
        "print(fruits)"
      ],
      "metadata": {
        "colab": {
          "base_uri": "https://localhost:8080/"
        },
        "id": "1PdHJGrcHtif",
        "outputId": "e2a9b00d-2ed9-4eb2-cc67-896deb195559"
      },
      "execution_count": null,
      "outputs": [
        {
          "output_type": "stream",
          "name": "stdout",
          "text": [
            "['Apples', 'Cherry', 'Grape', 'Grape', 'Melon', 'Orange', 'Orange']\n"
          ]
        }
      ]
    },
    {
      "cell_type": "code",
      "source": [
        "print(fruits[1])\n",
        "print(fruits[1:4])\n",
        "print(fruits[1],fruits[3])"
      ],
      "metadata": {
        "colab": {
          "base_uri": "https://localhost:8080/"
        },
        "id": "pKhYfEgPJMao",
        "outputId": "f7a3607e-871f-4cc3-a7a5-7e71da471f87"
      },
      "execution_count": null,
      "outputs": [
        {
          "output_type": "stream",
          "name": "stdout",
          "text": [
            "Cherry\n",
            "['Cherry', 'Grape', 'Grape']\n",
            "Cherry Grape\n"
          ]
        }
      ]
    },
    {
      "cell_type": "code",
      "source": [
        "print(fruits.index(\"Grape\")) #find min. index of the element"
      ],
      "metadata": {
        "colab": {
          "base_uri": "https://localhost:8080/"
        },
        "id": "kR6xdl2_LEnH",
        "outputId": "679b67a0-412c-4be2-da06-40d9909dcf8a"
      },
      "execution_count": null,
      "outputs": [
        {
          "output_type": "stream",
          "name": "stdout",
          "text": [
            "2\n"
          ]
        }
      ]
    },
    {
      "cell_type": "code",
      "source": [
        "print(\"Apples\" in fruits) #check if element is in the list"
      ],
      "metadata": {
        "colab": {
          "base_uri": "https://localhost:8080/"
        },
        "id": "o1A6zsisLZZ9",
        "outputId": "02cacdd4-45eb-4f73-d268-6c1d16c84f3a"
      },
      "execution_count": null,
      "outputs": [
        {
          "output_type": "stream",
          "name": "stdout",
          "text": [
            "True\n"
          ]
        }
      ]
    },
    {
      "cell_type": "markdown",
      "source": [
        "Tuples"
      ],
      "metadata": {
        "id": "4uq0l6TfLmHc"
      }
    },
    {
      "cell_type": "code",
      "source": [
        "coord=(10.0,20.0)"
      ],
      "metadata": {
        "id": "AChPVqazLo61"
      },
      "execution_count": null,
      "outputs": []
    },
    {
      "cell_type": "markdown",
      "source": [
        "Can't change data (immutable) in Tuples like List"
      ],
      "metadata": {
        "id": "GM5aVbRdNn_P"
      }
    },
    {
      "cell_type": "code",
      "source": [
        "list2=[1,2,3]\n",
        "list2[2]=4\n",
        "print(list2)"
      ],
      "metadata": {
        "colab": {
          "base_uri": "https://localhost:8080/"
        },
        "id": "EUXHILsaN_L3",
        "outputId": "4b6fef4c-04fa-4a91-9f32-a5c900869bb2"
      },
      "execution_count": null,
      "outputs": [
        {
          "output_type": "stream",
          "name": "stdout",
          "text": [
            "[1, 2, 4]\n"
          ]
        }
      ]
    },
    {
      "cell_type": "code",
      "source": [
        "print(coord.count(10))   #count occurences of a value"
      ],
      "metadata": {
        "colab": {
          "base_uri": "https://localhost:8080/"
        },
        "id": "NwUiHrmrLvfy",
        "outputId": "a13328f3-cac7-4686-a34b-fa6c783e6e39"
      },
      "execution_count": null,
      "outputs": [
        {
          "output_type": "stream",
          "name": "stdout",
          "text": [
            "1\n"
          ]
        }
      ]
    },
    {
      "cell_type": "code",
      "source": [
        "print(len(coord))"
      ],
      "metadata": {
        "colab": {
          "base_uri": "https://localhost:8080/"
        },
        "id": "9KrsDOPSMBJZ",
        "outputId": "28aeb4f2-2b71-4e4c-ccd5-e6e3a8efcb42"
      },
      "execution_count": null,
      "outputs": [
        {
          "output_type": "stream",
          "name": "stdout",
          "text": [
            "2\n"
          ]
        }
      ]
    },
    {
      "cell_type": "code",
      "source": [
        "li=list(coord)  #convert tuple into list\n",
        "print(li)\n",
        "#to mutate element in tuple\n",
        "li[1]=\"Hi\"\n",
        "print(li)\n",
        "tup=tuple(li)\n",
        "print(tup)"
      ],
      "metadata": {
        "colab": {
          "base_uri": "https://localhost:8080/"
        },
        "id": "PtipIGMKOcaQ",
        "outputId": "7484c957-8921-46ee-a09c-b9684404a668"
      },
      "execution_count": null,
      "outputs": [
        {
          "output_type": "stream",
          "name": "stdout",
          "text": [
            "[10.0, 20.0]\n",
            "[10.0, 'Hi']\n",
            "(10.0, 'Hi')\n"
          ]
        }
      ]
    },
    {
      "cell_type": "markdown",
      "source": [
        "**Dictionary**"
      ],
      "metadata": {
        "id": "eRUlgSBENYqT"
      }
    },
    {
      "cell_type": "code",
      "source": [
        "person={\"Name\" : \"John\", \"Age\" : 28}\n",
        "print(person)"
      ],
      "metadata": {
        "colab": {
          "base_uri": "https://localhost:8080/"
        },
        "id": "oftBoGJANbGX",
        "outputId": "312991cc-aa25-4170-ed5c-c6e2848bb5fc"
      },
      "execution_count": null,
      "outputs": [
        {
          "output_type": "stream",
          "name": "stdout",
          "text": [
            "{'Name': 'John', 'Age': 28}\n"
          ]
        }
      ]
    },
    {
      "cell_type": "code",
      "source": [
        "print(person.keys())   #get keys\n",
        "print(person.values())  #get values"
      ],
      "metadata": {
        "colab": {
          "base_uri": "https://localhost:8080/"
        },
        "id": "Od7qnv78OTon",
        "outputId": "1cbf6152-3acc-4352-c17f-813f39966348"
      },
      "execution_count": null,
      "outputs": [
        {
          "output_type": "stream",
          "name": "stdout",
          "text": [
            "dict_keys(['Name', 'Age'])\n",
            "dict_values(['John', 28])\n"
          ]
        }
      ]
    },
    {
      "cell_type": "code",
      "source": [
        "print(person.items())    #get all key-value pairs"
      ],
      "metadata": {
        "colab": {
          "base_uri": "https://localhost:8080/"
        },
        "id": "-zdqxOZxQHoS",
        "outputId": "a32c423f-aeb3-43cf-917e-6ded35781a13"
      },
      "execution_count": null,
      "outputs": [
        {
          "output_type": "stream",
          "name": "stdout",
          "text": [
            "dict_items([('Name', 'John'), ('Age', 28)])\n"
          ]
        }
      ]
    },
    {
      "cell_type": "code",
      "source": [
        "print(person.get(\"Name\"))   #GEt value by key"
      ],
      "metadata": {
        "colab": {
          "base_uri": "https://localhost:8080/"
        },
        "id": "60Lli2cyQVyo",
        "outputId": "f32c7539-336f-49e9-974b-f6bc804ed798"
      },
      "execution_count": null,
      "outputs": [
        {
          "output_type": "stream",
          "name": "stdout",
          "text": [
            "John\n"
          ]
        }
      ]
    },
    {
      "cell_type": "code",
      "source": [
        "person.update({\"Height\" : 140 })\n",
        "print(person)"
      ],
      "metadata": {
        "colab": {
          "base_uri": "https://localhost:8080/"
        },
        "id": "irxQN_VJQnZd",
        "outputId": "cfd08433-e321-4789-873e-458275be7574"
      },
      "execution_count": null,
      "outputs": [
        {
          "output_type": "stream",
          "name": "stdout",
          "text": [
            "{'Name': 'John', 'Age': 28, 'Height': 140}\n"
          ]
        }
      ]
    },
    {
      "cell_type": "code",
      "source": [
        "person.pop(\"Age\")\n",
        "print(person)"
      ],
      "metadata": {
        "colab": {
          "base_uri": "https://localhost:8080/"
        },
        "id": "5rGWAAjYQx1n",
        "outputId": "5eac7e2a-9dcb-4b97-f7ac-b4d3caedfe98"
      },
      "execution_count": null,
      "outputs": [
        {
          "output_type": "stream",
          "name": "stdout",
          "text": [
            "{'Name': 'John', 'Height': 140}\n"
          ]
        }
      ]
    },
    {
      "cell_type": "code",
      "source": [
        "print(len(person))"
      ],
      "metadata": {
        "colab": {
          "base_uri": "https://localhost:8080/"
        },
        "id": "qn7GhhbRQ7pp",
        "outputId": "11f3fcef-4c6c-4b81-84d2-5bcf07dcab14"
      },
      "execution_count": null,
      "outputs": [
        {
          "output_type": "stream",
          "name": "stdout",
          "text": [
            "2\n"
          ]
        }
      ]
    },
    {
      "cell_type": "markdown",
      "source": [
        "**Sets**"
      ],
      "metadata": {
        "id": "kv3rcnoSRAqB"
      }
    },
    {
      "cell_type": "code",
      "source": [
        "se={1,2,3,4,5}\n",
        "print(se)"
      ],
      "metadata": {
        "colab": {
          "base_uri": "https://localhost:8080/"
        },
        "id": "Zq9la83HRCtb",
        "outputId": "fcab4d55-b8b8-444d-dbcf-250d1e4639b3"
      },
      "execution_count": null,
      "outputs": [
        {
          "output_type": "stream",
          "name": "stdout",
          "text": [
            "{1, 2, 3, 4, 5}\n"
          ]
        }
      ]
    },
    {
      "cell_type": "markdown",
      "source": [
        "Duplicates are not allowed in sets unlike lists and tuples."
      ],
      "metadata": {
        "id": "93alNrxhRJZf"
      }
    },
    {
      "cell_type": "code",
      "source": [
        "print(len(se))  #index starts from 1"
      ],
      "metadata": {
        "colab": {
          "base_uri": "https://localhost:8080/"
        },
        "id": "eRrQMaTMRMAF",
        "outputId": "940280bf-2122-44a9-f08d-2846ac76e9a0"
      },
      "execution_count": null,
      "outputs": [
        {
          "output_type": "stream",
          "name": "stdout",
          "text": [
            "5\n"
          ]
        }
      ]
    },
    {
      "cell_type": "code",
      "source": [
        "se.add(6)\n",
        "print(se)"
      ],
      "metadata": {
        "colab": {
          "base_uri": "https://localhost:8080/"
        },
        "id": "V11bvIavRYxK",
        "outputId": "7a516fed-7955-456e-d1a8-924229536810"
      },
      "execution_count": null,
      "outputs": [
        {
          "output_type": "stream",
          "name": "stdout",
          "text": [
            "{1, 2, 3, 4, 5, 6}\n"
          ]
        }
      ]
    },
    {
      "cell_type": "code",
      "source": [
        "se.update({7,8,9})   #add another set into a set\n",
        "print(se)"
      ],
      "metadata": {
        "colab": {
          "base_uri": "https://localhost:8080/"
        },
        "id": "9wtk5YHQRcor",
        "outputId": "ed93174f-93fb-4ad0-8a24-c7748abd216d"
      },
      "execution_count": null,
      "outputs": [
        {
          "output_type": "stream",
          "name": "stdout",
          "text": [
            "{1, 2, 3, 4, 5, 6, 7, 8, 9}\n"
          ]
        }
      ]
    },
    {
      "cell_type": "code",
      "source": [
        "se.remove(9)\n",
        "print(se)"
      ],
      "metadata": {
        "colab": {
          "base_uri": "https://localhost:8080/"
        },
        "id": "IJqipwfDRkCP",
        "outputId": "2939b43e-2126-47c7-8e39-040f7f74fd77"
      },
      "execution_count": null,
      "outputs": [
        {
          "output_type": "stream",
          "name": "stdout",
          "text": [
            "{1, 2, 3, 4, 5, 6, 7, 8}\n"
          ]
        }
      ]
    },
    {
      "cell_type": "markdown",
      "source": [
        "Boolean"
      ],
      "metadata": {
        "id": "4V91nKnsScn3"
      }
    },
    {
      "cell_type": "code",
      "source": [
        "is_active=True\n",
        "print(is_active)"
      ],
      "metadata": {
        "colab": {
          "base_uri": "https://localhost:8080/"
        },
        "id": "QZi9-w7fSeQh",
        "outputId": "c1348fa7-5528-47b6-ef93-75c1bcad9f94"
      },
      "execution_count": null,
      "outputs": [
        {
          "output_type": "stream",
          "name": "stdout",
          "text": [
            "True\n"
          ]
        }
      ]
    },
    {
      "cell_type": "code",
      "source": [
        "print(int(is_active))"
      ],
      "metadata": {
        "colab": {
          "base_uri": "https://localhost:8080/"
        },
        "id": "0F_K6-qISjZY",
        "outputId": "d2799c60-a044-44aa-9efa-170110bd1a90"
      },
      "execution_count": null,
      "outputs": [
        {
          "output_type": "stream",
          "name": "stdout",
          "text": [
            "1\n"
          ]
        }
      ]
    },
    {
      "cell_type": "code",
      "source": [
        "print(bool(0))\n",
        "print(bool(1))"
      ],
      "metadata": {
        "colab": {
          "base_uri": "https://localhost:8080/"
        },
        "id": "CPbmfRsPSmgp",
        "outputId": "10dc708d-52fd-42f4-e833-319c6af7bdbf"
      },
      "execution_count": null,
      "outputs": [
        {
          "output_type": "stream",
          "name": "stdout",
          "text": [
            "False\n",
            "True\n"
          ]
        }
      ]
    },
    {
      "cell_type": "code",
      "source": [
        "print(bool(\"Hello\"))"
      ],
      "metadata": {
        "colab": {
          "base_uri": "https://localhost:8080/"
        },
        "id": "8DigtF2RSofm",
        "outputId": "589e90e0-1403-4fb6-af5c-385354ecd830"
      },
      "execution_count": null,
      "outputs": [
        {
          "output_type": "stream",
          "name": "stdout",
          "text": [
            "True\n"
          ]
        }
      ]
    },
    {
      "cell_type": "code",
      "source": [
        "print(is_active and False)  #Logical AND"
      ],
      "metadata": {
        "colab": {
          "base_uri": "https://localhost:8080/"
        },
        "id": "jPohnmtKSxZo",
        "outputId": "2cb3af4d-4d02-4042-df16-8ee628d46ccb"
      },
      "execution_count": null,
      "outputs": [
        {
          "output_type": "stream",
          "name": "stdout",
          "text": [
            "False\n"
          ]
        }
      ]
    },
    {
      "cell_type": "code",
      "source": [
        "print(is_active or False)  #Logical OR"
      ],
      "metadata": {
        "colab": {
          "base_uri": "https://localhost:8080/"
        },
        "id": "nqVd4uloS7l1",
        "outputId": "dcc52a14-97c1-489b-b74d-5847530b5985"
      },
      "execution_count": null,
      "outputs": [
        {
          "output_type": "stream",
          "name": "stdout",
          "text": [
            "True\n"
          ]
        }
      ]
    },
    {
      "cell_type": "code",
      "source": [
        "print(not is_active)"
      ],
      "metadata": {
        "colab": {
          "base_uri": "https://localhost:8080/"
        },
        "id": "uReaGWSiTAAP",
        "outputId": "9836020b-5180-4d46-a28f-2a2f557c7d90"
      },
      "execution_count": null,
      "outputs": [
        {
          "output_type": "stream",
          "name": "stdout",
          "text": [
            "False\n"
          ]
        }
      ]
    },
    {
      "cell_type": "markdown",
      "source": [
        "**Conditional Statements**"
      ],
      "metadata": {
        "id": "tBUaSDBmfzCw"
      }
    },
    {
      "cell_type": "code",
      "source": [
        "age=20\n",
        "if age <18 :\n",
        "  print(\"Minor\")\n",
        "elif age >=18 and age <65:\n",
        "  print(\"Adult\")\n",
        "else:\n",
        "  print(\"Senior\")"
      ],
      "metadata": {
        "colab": {
          "base_uri": "https://localhost:8080/"
        },
        "id": "jjhuOiogf3ch",
        "outputId": "cd20571a-618b-401f-b0c1-3d4495c88e83"
      },
      "execution_count": 1,
      "outputs": [
        {
          "output_type": "stream",
          "name": "stdout",
          "text": [
            "Adult\n"
          ]
        }
      ]
    },
    {
      "cell_type": "code",
      "source": [
        "num = 42\n",
        "if num % 2 == 0:\n",
        "  print(\"Even\")\n",
        "else:\n",
        "  print(\"Odd\")"
      ],
      "metadata": {
        "colab": {
          "base_uri": "https://localhost:8080/"
        },
        "id": "nin6R5crgaro",
        "outputId": "5b0fd940-b08b-4a24-f990-73bf58b56a19"
      },
      "execution_count": 2,
      "outputs": [
        {
          "output_type": "stream",
          "name": "stdout",
          "text": [
            "Even\n"
          ]
        }
      ]
    },
    {
      "cell_type": "code",
      "source": [
        "score = 85\n",
        "if score >= 90:\n",
        "  print(\"A\")\n",
        "elif score >= 80:\n",
        "  print(\"B\")\n",
        "elif score >= 70:\n",
        "  print(\"C\")\n",
        "elif score >= 60:\n",
        "  print(\"D\")\n",
        "else:\n",
        "  print(\"F\")"
      ],
      "metadata": {
        "colab": {
          "base_uri": "https://localhost:8080/"
        },
        "id": "qCd7zTPViBF7",
        "outputId": "6356d1b1-7c2e-4cec-bf03-2ade54c4c299"
      },
      "execution_count": 3,
      "outputs": [
        {
          "output_type": "stream",
          "name": "stdout",
          "text": [
            "B\n"
          ]
        }
      ]
    },
    {
      "cell_type": "code",
      "source": [
        "temp = 30\n",
        "if temp > 30:\n",
        "  print(\"Hot\")\n",
        "elif temp > 20:\n",
        "  print(\"Warm\")\n",
        "elif temp > 10:\n",
        "  print(\"Cool\")\n",
        "else:\n",
        "  print(\"Cold\")"
      ],
      "metadata": {
        "colab": {
          "base_uri": "https://localhost:8080/"
        },
        "id": "giF2yLCziT_-",
        "outputId": "aca49cc4-ef98-48ad-a258-efd05a572755"
      },
      "execution_count": 4,
      "outputs": [
        {
          "output_type": "stream",
          "name": "stdout",
          "text": [
            "Warm\n"
          ]
        }
      ]
    },
    {
      "cell_type": "code",
      "source": [
        "#Nested conditional for BMI Calculation\n",
        "weight =70\n",
        "height=1.75\n",
        "bmi=weight/(height*height)\n",
        "if bmi < 18.5:\n",
        "  print(\"Underweight\")\n",
        "else:\n",
        "  if bmi < 24.9:\n",
        "    print(\"Normal\")\n",
        "  else :\n",
        "    if bmi < 29.9:\n",
        "      print(\"Overweight\")\n",
        "    else:\n",
        "      print(\"Obese\")"
      ],
      "metadata": {
        "colab": {
          "base_uri": "https://localhost:8080/"
        },
        "id": "fmMOlvDdikkY",
        "outputId": "e1d96f56-925c-4c98-e380-8f5244e2b2fa"
      },
      "execution_count": 5,
      "outputs": [
        {
          "output_type": "stream",
          "name": "stdout",
          "text": [
            "Normal\n"
          ]
        }
      ]
    },
    {
      "cell_type": "code",
      "source": [
        "#User login status\n",
        "is_logged_in=True\n",
        "has_permission=True\n",
        "if is_logged_in:\n",
        "  if has_permission:\n",
        "    print(\"Welcome\")\n",
        "  else:\n",
        "    print(\"Permission denied\")\n",
        "else:\n",
        "  print(\"Please log in\")\n"
      ],
      "metadata": {
        "colab": {
          "base_uri": "https://localhost:8080/"
        },
        "id": "l7TU_YnqjLw-",
        "outputId": "4a531443-8084-4ac0-812c-1f37990ce0d9"
      },
      "execution_count": 6,
      "outputs": [
        {
          "output_type": "stream",
          "name": "stdout",
          "text": [
            "Welcome\n"
          ]
        }
      ]
    },
    {
      "cell_type": "code",
      "source": [
        "#Age based Discount\n",
        "age =70\n",
        "if age < 18:\n",
        "  print(\"Eligible for child discount\")\n",
        "elif age >= 65:\n",
        "  print(\"Eligible for senior discount\")\n",
        "else :\n",
        "  print(\"Not eligible for child discount\")"
      ],
      "metadata": {
        "colab": {
          "base_uri": "https://localhost:8080/"
        },
        "id": "dLpOKD9djYRw",
        "outputId": "e335c79a-baa9-4aed-de73-b115663494bc"
      },
      "execution_count": 8,
      "outputs": [
        {
          "output_type": "stream",
          "name": "stdout",
          "text": [
            "Eligible for senior discount\n"
          ]
        }
      ]
    },
    {
      "cell_type": "code",
      "source": [
        "#Multiple conditions\n",
        "temp= 25\n",
        "weather = \"Sunny\"\n",
        "\n",
        "if temp > 20 and weather == \"Sunny\":\n",
        "  print(\"Go outside\")\n",
        "elif temp <=20 or weather != \"Sunny\":\n",
        "  print(\"Stay indoors\")\n",
        "else:\n",
        "  print(\"Unusual weather\")"
      ],
      "metadata": {
        "colab": {
          "base_uri": "https://localhost:8080/"
        },
        "id": "ulg5R8m2jroX",
        "outputId": "fc8ae9e5-9b30-4858-bf35-de2efde20f24"
      },
      "execution_count": 9,
      "outputs": [
        {
          "output_type": "stream",
          "name": "stdout",
          "text": [
            "Go outside\n"
          ]
        }
      ]
    },
    {
      "cell_type": "markdown",
      "source": [
        "LOOPS"
      ],
      "metadata": {
        "id": "Ygpps_3qkKWn"
      }
    },
    {
      "cell_type": "code",
      "source": [
        "for i in range(5):\n",
        "  print(i)"
      ],
      "metadata": {
        "colab": {
          "base_uri": "https://localhost:8080/"
        },
        "id": "7A1zgtnSkNOJ",
        "outputId": "e76f4617-2271-4a70-e7bd-87b095b86ecd"
      },
      "execution_count": 10,
      "outputs": [
        {
          "output_type": "stream",
          "name": "stdout",
          "text": [
            "0\n",
            "1\n",
            "2\n",
            "3\n",
            "4\n"
          ]
        }
      ]
    },
    {
      "cell_type": "code",
      "source": [
        "fruits=[\"apple\",\"banana\",\"cherry\",\"date\"]\n",
        "for i in range(len(fruits)):\n",
        "  print(\"Fruit \",i,\" : \",fruits[i])"
      ],
      "metadata": {
        "colab": {
          "base_uri": "https://localhost:8080/"
        },
        "id": "iZ3ybysckYHx",
        "outputId": "bf1404de-790a-40a4-d682-1ea7c7df80bf"
      },
      "execution_count": 17,
      "outputs": [
        {
          "output_type": "stream",
          "name": "stdout",
          "text": [
            "Fruit  0  :  apple\n",
            "Fruit  1  :  banana\n",
            "Fruit  2  :  cherry\n",
            "Fruit  3  :  date\n"
          ]
        }
      ]
    },
    {
      "cell_type": "code",
      "source": [
        "#iterating over a string\n",
        "greeting =\"Hello\"\n",
        "for char in greeting:\n",
        "  print(char)"
      ],
      "metadata": {
        "colab": {
          "base_uri": "https://localhost:8080/"
        },
        "id": "RGxdJPjinF2t",
        "outputId": "64abdbac-e930-470a-f9c7-48e43a6aa94f"
      },
      "execution_count": 19,
      "outputs": [
        {
          "output_type": "stream",
          "name": "stdout",
          "text": [
            "H\n",
            "e\n",
            "l\n",
            "l\n",
            "o\n"
          ]
        }
      ]
    },
    {
      "cell_type": "code",
      "source": [
        "#iterating over a dictionary\n",
        "person = {\"Name\" : \"John\", \"Age\" : 22}\n",
        "for key,value in person.items():\n",
        "  print(key,\":\", value)\n",
        ""
      ],
      "metadata": {
        "colab": {
          "base_uri": "https://localhost:8080/"
        },
        "id": "dBrkVsitnSqL",
        "outputId": "699bdd4e-7bf8-4c8b-b5a4-7d3cedab218a"
      },
      "execution_count": 21,
      "outputs": [
        {
          "output_type": "stream",
          "name": "stdout",
          "text": [
            "Name : John\n",
            "Age : 22\n"
          ]
        }
      ]
    },
    {
      "cell_type": "code",
      "source": [
        "#Using range() with step\n",
        "for i in range(0,10,2) :\n",
        "  print(i)"
      ],
      "metadata": {
        "colab": {
          "base_uri": "https://localhost:8080/"
        },
        "id": "Vxh-ZMfonyUH",
        "outputId": "675eb20b-eb49-471a-a71f-2158b7a950a2"
      },
      "execution_count": 22,
      "outputs": [
        {
          "output_type": "stream",
          "name": "stdout",
          "text": [
            "0\n",
            "2\n",
            "4\n",
            "6\n",
            "8\n"
          ]
        }
      ]
    },
    {
      "cell_type": "code",
      "source": [
        "# Nested for loops\n",
        "for i in range(3):\n",
        "  for j in range(2):\n",
        "    print(f\"i = {i} , j= {j}\")"
      ],
      "metadata": {
        "colab": {
          "base_uri": "https://localhost:8080/"
        },
        "id": "232fGvpcn7_V",
        "outputId": "241826d4-8443-420e-95e7-87a36088f5b4"
      },
      "execution_count": 25,
      "outputs": [
        {
          "output_type": "stream",
          "name": "stdout",
          "text": [
            "i = 0 , j= 0\n",
            "i = 0 , j= 1\n",
            "i = 1 , j= 0\n",
            "i = 1 , j= 1\n",
            "i = 2 , j= 0\n",
            "i = 2 , j= 1\n"
          ]
        }
      ]
    },
    {
      "cell_type": "code",
      "source": [
        "#Enumerate function: returns index and value\n",
        "\n",
        "fruits = [ \"apple\",\"banana\",\"cherry\"]\n",
        "for index, fruit in enumerate(fruits):\n",
        "  print(f\"Fruit {fruit} is at index {index}\")"
      ],
      "metadata": {
        "colab": {
          "base_uri": "https://localhost:8080/"
        },
        "id": "nTLGl5CroT05",
        "outputId": "bc145dd3-3342-4fa8-9098-bb52ef54bf75"
      },
      "execution_count": 26,
      "outputs": [
        {
          "output_type": "stream",
          "name": "stdout",
          "text": [
            "Fruit apple is at index 0\n",
            "Fruit banana is at index 1\n",
            "Fruit cherry is at index 2\n"
          ]
        }
      ]
    },
    {
      "cell_type": "code",
      "source": [
        "#while\n",
        "count =0\n",
        "while count < 5:\n",
        "  print(count)\n",
        "  count +=1"
      ],
      "metadata": {
        "colab": {
          "base_uri": "https://localhost:8080/"
        },
        "id": "wnjDY6tgorNh",
        "outputId": "467c1947-ac92-46f9-bca7-06b07127b09b"
      },
      "execution_count": 27,
      "outputs": [
        {
          "output_type": "stream",
          "name": "stdout",
          "text": [
            "0\n",
            "1\n",
            "2\n",
            "3\n",
            "4\n"
          ]
        }
      ]
    },
    {
      "cell_type": "code",
      "source": [
        "#while with break\n",
        "count =0\n",
        "while True:  # it will run infinitely when true is mentioned\n",
        "  print(count)\n",
        "  count +=1\n",
        "  if count >= 5:\n",
        "    break"
      ],
      "metadata": {
        "id": "YF55lARsoxud"
      },
      "execution_count": null,
      "outputs": []
    },
    {
      "cell_type": "code",
      "source": [
        "#while loop with continue\n",
        "count =0\n",
        "while count < 5:\n",
        "  count +=1\n",
        "  if count == 3:\n",
        "    continue\n",
        "  print(count)"
      ],
      "metadata": {
        "colab": {
          "base_uri": "https://localhost:8080/"
        },
        "id": "OA8qk0XUqGOq",
        "outputId": "d4aeda04-31b3-449a-d99b-c44656039045"
      },
      "execution_count": 28,
      "outputs": [
        {
          "output_type": "stream",
          "name": "stdout",
          "text": [
            "1\n",
            "2\n",
            "4\n",
            "5\n"
          ]
        }
      ]
    },
    {
      "cell_type": "code",
      "source": [
        "# using while loop to process user input\n",
        "user_input=\"\"\n",
        "while user_input.lower() != \"quit\":\n",
        "  user_input=input(\"Enter a word or quit: \")\n",
        "  print(f\"You entered  : {user_input}\")\n",
        "  break"
      ],
      "metadata": {
        "colab": {
          "base_uri": "https://localhost:8080/"
        },
        "id": "JwmIX_ZVqju5",
        "outputId": "e861e575-7a9f-47a7-a540-1bb011a3940e"
      },
      "execution_count": 31,
      "outputs": [
        {
          "output_type": "stream",
          "name": "stdout",
          "text": [
            "Enter a word or quit: sadhasjdkashdajquit\n",
            "You entered  : sadhasjdkashdajquit\n"
          ]
        }
      ]
    },
    {
      "cell_type": "code",
      "source": [
        "#Simulating a countdown\n",
        "countdown=10\n",
        "while countdown > 0:\n",
        "  print(countdown)\n",
        "  countdown -= 1\n",
        "print(\"Blast off!\")"
      ],
      "metadata": {
        "colab": {
          "base_uri": "https://localhost:8080/"
        },
        "id": "NJWyJ6LZrpP8",
        "outputId": "72d9c89a-9bcb-49ea-84ba-fbb21178543f"
      },
      "execution_count": 32,
      "outputs": [
        {
          "output_type": "stream",
          "name": "stdout",
          "text": [
            "10\n",
            "9\n",
            "8\n",
            "7\n",
            "6\n",
            "5\n",
            "4\n",
            "3\n",
            "2\n",
            "1\n",
            "Blast off\n"
          ]
        }
      ]
    },
    {
      "cell_type": "code",
      "source": [
        "#Using while loop for validation\n",
        "password=\"\"\n",
        "while len(password) < 8:\n",
        "  password = input(\"ENter a password (must be atleast 8 characters long)\" )\n",
        "  if len(password) < 8:\n",
        "    print(\"Password must be atleast 8 characters long\")\n",
        "  print(password)\n"
      ],
      "metadata": {
        "colab": {
          "base_uri": "https://localhost:8080/"
        },
        "id": "5cViZ7pNr3xH",
        "outputId": "a19df262-af28-4a10-e835-895a2088778d"
      },
      "execution_count": 37,
      "outputs": [
        {
          "output_type": "stream",
          "name": "stdout",
          "text": [
            "ENter a password(must be atleast 8 characters long)123456\n",
            "Password must be atleast 8 characters long\n",
            "123456\n",
            "ENter a password(must be atleast 8 characters long)213546789\n",
            "213546789\n"
          ]
        }
      ]
    },
    {
      "cell_type": "markdown",
      "source": [
        "REAL LIFE EXAMPLE - MANAGING A GROCERY STORE INVENTORY"
      ],
      "metadata": {
        "id": "OG3bUt4XsrHp"
      }
    },
    {
      "cell_type": "code",
      "source": [
        "store_name = \"Grocery Store\"\n",
        "inventory={\n",
        "    \"apples\" : 50,\n",
        "    \"oranges\" : 30,\n",
        "    \"bananas\" : 100\n",
        "}\n",
        "\n",
        "#check inventory status\n",
        "def check_inventory(item) :\n",
        "  if inventory[item] > 0:\n",
        "    return f\"{item.capitalize()} are in stock : {inventory[item]}\"\n",
        "  else:\n",
        "    return f\"Sorry {item.capitalize()} are out of stock\"\n",
        "#update inventory\n",
        "def update_inventory(item, quantity):\n",
        "  if inventory.get(item):\n",
        "    inventory[item] += quantity\n",
        "  else:\n",
        "    inventory[item] = quantity\n",
        "\n",
        "#check and update inventory\n",
        "print(check_inventory(\"apples\"))\n",
        "update_inventory(\"apples\",-10)\n",
        "print(check_inventory(\"apples\"))\n",
        "update_inventory(\"oranges\",10)\n",
        "print(check_inventory(\"oranges\"))\n",
        "\n"
      ],
      "metadata": {
        "colab": {
          "base_uri": "https://localhost:8080/"
        },
        "id": "IrmbeRMlsxlo",
        "outputId": "32930629-4961-4193-d98c-c77a2adebd5a"
      },
      "execution_count": 39,
      "outputs": [
        {
          "output_type": "stream",
          "name": "stdout",
          "text": [
            "Apples are in stock : 50\n",
            "Apples are in stock : 40\n",
            "Oranges are in stock : 40\n"
          ]
        }
      ]
    }
  ]
}